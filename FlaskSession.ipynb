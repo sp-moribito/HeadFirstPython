{
 "cells": [
  {
   "cell_type": "code",
   "execution_count": 3,
   "metadata": {},
   "outputs": [
    {
     "name": "stdout",
     "output_type": "stream",
     "text": [
      " * Serving Flask app \"__main__\" (lazy loading)\n",
      " * Environment: production\n",
      "   WARNING: This is a development server. Do not use it in a production deployment.\n",
      "   Use a production WSGI server instead.\n",
      " * Debug mode: off\n"
     ]
    },
    {
     "name": "stderr",
     "output_type": "stream",
     "text": [
      " * Running on http://127.0.0.1:5000/ (Press CTRL+C to quit)\n",
      "127.0.0.1 - - [09/Mar/2021 11:42:26] \"\u001b[33mGET / HTTP/1.1\u001b[0m\" 404 -\n",
      "127.0.0.1 - - [09/Mar/2021 11:42:31] \"\u001b[37mGET /setuser/Alice HTTP/1.1\u001b[0m\" 200 -\n",
      "127.0.0.1 - - [09/Mar/2021 12:05:06] \"\u001b[37mGET /setuser/Bob HTTP/1.1\u001b[0m\" 200 -\n",
      "127.0.0.1 - - [09/Mar/2021 12:05:06] \"\u001b[33mGET /favicon.ico HTTP/1.1\u001b[0m\" 404 -\n",
      "127.0.0.1 - - [09/Mar/2021 12:06:56] \"\u001b[37mGET /setuser/Bob HTTP/1.1\u001b[0m\" 200 -\n",
      "127.0.0.1 - - [09/Mar/2021 12:06:56] \"\u001b[33mGET /favicon.ico HTTP/1.1\u001b[0m\" 404 -\n",
      "127.0.0.1 - - [09/Mar/2021 12:11:17] \"\u001b[33mGET /getuser/Bob HTTP/1.1\u001b[0m\" 404 -\n",
      "127.0.0.1 - - [09/Mar/2021 12:11:32] \"\u001b[37mGET /setuser/Bob HTTP/1.1\u001b[0m\" 200 -\n",
      "127.0.0.1 - - [09/Mar/2021 12:12:11] \"\u001b[33mGET /getuser/Bob HTTP/1.1\u001b[0m\" 404 -\n",
      "127.0.0.1 - - [09/Mar/2021 12:12:23] \"\u001b[33mGET /getuser/Alice HTTP/1.1\u001b[0m\" 404 -\n",
      "127.0.0.1 - - [09/Mar/2021 12:12:54] \"\u001b[37mGET /setuser/Bob HTTP/1.1\u001b[0m\" 200 -\n",
      "127.0.0.1 - - [09/Mar/2021 12:13:09] \"\u001b[37mGET /getuser HTTP/1.1\u001b[0m\" 200 -\n"
     ]
    }
   ],
   "source": [
    "from flask import Flask,session\n",
    "\n",
    "app=Flask(__name__)\n",
    "app.secret_key='YouWillNeverGuess'\n",
    "\n",
    "@app.route('/setuser/<user>')\n",
    "def setuser(user:str) -> str:\n",
    "    session['user']=user\n",
    "    return 'User value set to: '+session['user']\n",
    "\n",
    "@app.route('/getuser')\n",
    "def getuser() ->str:\n",
    "    return 'User value is currently set to: '+ session['user']\n",
    "\n",
    "if __name__=='__main__':\n",
    "    app.run()"
   ]
  },
  {
   "cell_type": "code",
   "execution_count": 3,
   "metadata": {},
   "outputs": [
    {
     "name": "stdout",
     "output_type": "stream",
     "text": [
      " * Serving Flask app \"__main__\" (lazy loading)\n",
      " * Environment: production\n",
      "   WARNING: This is a development server. Do not use it in a production deployment.\n",
      "   Use a production WSGI server instead.\n",
      " * Debug mode: off\n"
     ]
    },
    {
     "name": "stderr",
     "output_type": "stream",
     "text": [
      " * Running on http://127.0.0.1:5000/ (Press CTRL+C to quit)\n",
      "127.0.0.1 - - [09/Mar/2021 13:13:54] \"\u001b[37mGET /login HTTP/1.1\u001b[0m\" 200 -\n",
      "127.0.0.1 - - [09/Mar/2021 13:14:01] \"\u001b[37mGET /status HTTP/1.1\u001b[0m\" 200 -\n",
      "[2021-03-09 13:14:04,600] ERROR in app: Exception on /logout [GET]\n",
      "Traceback (most recent call last):\n",
      "  File \"C:\\Users\\Moribito\\anaconda3\\lib\\site-packages\\flask\\app.py\", line 2447, in wsgi_app\n",
      "    response = self.full_dispatch_request()\n",
      "  File \"C:\\Users\\Moribito\\anaconda3\\lib\\site-packages\\flask\\app.py\", line 1952, in full_dispatch_request\n",
      "    rv = self.handle_user_exception(e)\n",
      "  File \"C:\\Users\\Moribito\\anaconda3\\lib\\site-packages\\flask\\app.py\", line 1821, in handle_user_exception\n",
      "    reraise(exc_type, exc_value, tb)\n",
      "  File \"C:\\Users\\Moribito\\anaconda3\\lib\\site-packages\\flask\\_compat.py\", line 39, in reraise\n",
      "    raise value\n",
      "  File \"C:\\Users\\Moribito\\anaconda3\\lib\\site-packages\\flask\\app.py\", line 1950, in full_dispatch_request\n",
      "    rv = self.dispatch_request()\n",
      "  File \"C:\\Users\\Moribito\\anaconda3\\lib\\site-packages\\flask\\app.py\", line 1936, in dispatch_request\n",
      "    return self.view_functions[rule.endpoint](**req.view_args)\n",
      "  File \"<ipython-input-2-76a4b2b1a30f>\", line 28, in do_logout\n",
      "    session.pop('logged_in')\n",
      "  File \"C:\\Users\\Moribito\\anaconda3\\lib\\site-packages\\werkzeug\\datastructures.py\", line 269, in pop\n",
      "    rv = super(UpdateDictMixin, self).pop(key)\n",
      "KeyError: 'logged_in'\n",
      "127.0.0.1 - - [09/Mar/2021 13:14:04] \"\u001b[35m\u001b[1mGET /logout HTTP/1.1\u001b[0m\" 500 -\n",
      "127.0.0.1 - - [09/Mar/2021 13:14:49] \"\u001b[37mGET /login HTTP/1.1\u001b[0m\" 200 -\n",
      "127.0.0.1 - - [09/Mar/2021 13:14:54] \"\u001b[37mGET /status HTTP/1.1\u001b[0m\" 200 -\n",
      "127.0.0.1 - - [09/Mar/2021 13:15:45] \"\u001b[37mGET /logout HTTP/1.1\u001b[0m\" 200 -\n"
     ]
    }
   ],
   "source": [
    "from flask import Flask,session\n",
    "\n",
    "app=Flask(__name__)\n",
    "\n",
    "@app.route('/')\n",
    "def hello()->str:\n",
    "    return 'Hello from the simple webapp.'\n",
    "\n",
    "@app.route('/page1')\n",
    "def page1()->str:\n",
    "    return 'This is page 1'\n",
    "\n",
    "@app.route('/page2')\n",
    "def page2()->str:\n",
    "    return 'This is page 2'\n",
    "\n",
    "@app.route('/page3')\n",
    "def page3()->str:\n",
    "    return 'This is page 3'\n",
    "\n",
    "@app.route('/login')\n",
    "def do_login()->str:\n",
    "    session['logged_in']=True\n",
    "    return 'You are now logged in.'\n",
    "\n",
    "@app.route('/logout')\n",
    "def do_logout()->str:\n",
    "    session.pop('logged_in')\n",
    "    return 'You are now logged out.'\n",
    "\n",
    "@app.route('/status')\n",
    "def check_status()->str:\n",
    "    if 'logged_in' in session:\n",
    "        return 'You are currently logged in.'\n",
    "    return 'You are NOT logged in.'\n",
    "\n",
    "app.secret_key='YouWillNeverGuessMySecretKey'\n",
    "\n",
    "if __name__=='__main__':\n",
    "    app.run()"
   ]
  },
  {
   "cell_type": "code",
   "execution_count": null,
   "metadata": {},
   "outputs": [],
   "source": []
  }
 ],
 "metadata": {
  "kernelspec": {
   "display_name": "Python 3",
   "language": "python",
   "name": "python3"
  },
  "language_info": {
   "codemirror_mode": {
    "name": "ipython",
    "version": 3
   },
   "file_extension": ".py",
   "mimetype": "text/x-python",
   "name": "python",
   "nbconvert_exporter": "python",
   "pygments_lexer": "ipython3",
   "version": "3.8.5"
  }
 },
 "nbformat": 4,
 "nbformat_minor": 4
}
