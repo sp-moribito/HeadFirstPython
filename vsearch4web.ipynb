{
 "cells": [
  {
   "cell_type": "code",
   "execution_count": 11,
   "metadata": {},
   "outputs": [
    {
     "name": "stdout",
     "output_type": "stream",
     "text": [
      " * Serving Flask app \"__main__\" (lazy loading)\n",
      " * Environment: production\n",
      "   WARNING: This is a development server. Do not use it in a production deployment.\n",
      "   Use a production WSGI server instead.\n",
      " * Debug mode: off\n"
     ]
    },
    {
     "name": "stderr",
     "output_type": "stream",
     "text": [
      " * Running on http://127.0.0.1:5000/ (Press CTRL+C to quit)\n",
      "127.0.0.1 - - [08/Mar/2021 13:36:52] \"\u001b[37mGET / HTTP/1.1\u001b[0m\" 200 -\n",
      "127.0.0.1 - - [08/Mar/2021 13:36:58] \"\u001b[37mGET /viewlog HTTP/1.1\u001b[0m\" 200 -\n",
      "127.0.0.1 - - [08/Mar/2021 13:39:50] \"\u001b[37mGET / HTTP/1.1\u001b[0m\" 200 -\n",
      "127.0.0.1 - - [08/Mar/2021 13:39:56] \"\u001b[37mGET /entry HTTP/1.1\u001b[0m\" 200 -\n",
      "127.0.0.1 - - [08/Mar/2021 13:40:01] \"\u001b[37mPOST /search4 HTTP/1.1\u001b[0m\" 200 -\n",
      "127.0.0.1 - - [08/Mar/2021 13:40:11] \"\u001b[37mGET /entry HTTP/1.1\u001b[0m\" 200 -\n",
      "127.0.0.1 - - [08/Mar/2021 13:40:16] \"\u001b[37mPOST /search4 HTTP/1.1\u001b[0m\" 200 -\n",
      "127.0.0.1 - - [08/Mar/2021 13:40:21] \"\u001b[37mGET /viewlog HTTP/1.1\u001b[0m\" 200 -\n",
      "127.0.0.1 - - [08/Mar/2021 13:40:34] \"\u001b[37mGET /viewlog HTTP/1.1\u001b[0m\" 200 -\n"
     ]
    }
   ],
   "source": [
    "from flask import Flask,render_template,request,escape\n",
    "from vsearch2 import search4letters\n",
    "\n",
    "app=Flask(__name__)\n",
    "\n",
    "def log_request(req:'flask_request',res:str)->None:\n",
    "    with open('vsearch.log','a') as log:\n",
    "        print(req.form,req.remote_addr,req.user_agent,res,file=log,sep='|')\n",
    "#         print(req,res,file=log,end='|')\n",
    "#         print(req.remote_addr,file=log,end='|')\n",
    "#         print(req.user_agent,file=log,end='|')\n",
    "#         print(res,file=log,end='|')\n",
    "\n",
    "@app.route('/')\n",
    "def hello() -> str:\n",
    "           return 'Hello world from Flask!'\n",
    "    \n",
    "@app.route('/search4', methods=['POST'])\n",
    "def do_search() -> str:\n",
    "    phrase=request.form['phrase']\n",
    "    letters=request.form['letters']\n",
    "    title='Here are your results: '\n",
    "    results=str(search4letters(phrase,letters))\n",
    "    log_request(request,results)\n",
    "    return render_template('results.html',the_phrase=phrase,the_letters=letters,the_title=title,the_results=results,)\n",
    "\n",
    "@app.route('/entry')\n",
    "def entry_page()->'html':\n",
    "    return render_template('entry.html',the_title='Welcome to search4letters on the web!')\n",
    "\n",
    "@app.route('/viewlog')\n",
    "def view_the_log() -> 'html':\n",
    "    contents=[]\n",
    "    with open('vsearch.log') as log:\n",
    "        for line in log:\n",
    "            contents.append([])\n",
    "            for item in line.split('|'):\n",
    "                contents[-1].append(escape(item))\n",
    "    titles=('Form Data','Remote_addr','User_agent','Results')\n",
    "    return render_template('viewlog.html',the_title='View Log',the_row_titles=titles,the_data=contents,)\n",
    "\n",
    "app.run()"
   ]
  },
  {
   "cell_type": "code",
   "execution_count": 3,
   "metadata": {},
   "outputs": [
    {
     "data": {
      "text/plain": [
       "Markup('This is a Request')"
      ]
     },
     "execution_count": 3,
     "metadata": {},
     "output_type": "execute_result"
    }
   ],
   "source": [
    "from flask import escape\n",
    "escape('This is a Request')"
   ]
  },
  {
   "cell_type": "code",
   "execution_count": 4,
   "metadata": {},
   "outputs": [
    {
     "data": {
      "text/plain": [
       "Markup('This is a &lt;Request&gt;')"
      ]
     },
     "execution_count": 4,
     "metadata": {},
     "output_type": "execute_result"
    }
   ],
   "source": [
    "escape('This is a <Request>')"
   ]
  },
  {
   "cell_type": "code",
   "execution_count": null,
   "metadata": {},
   "outputs": [],
   "source": []
  }
 ],
 "metadata": {
  "kernelspec": {
   "display_name": "Python 3",
   "language": "python",
   "name": "python3"
  },
  "language_info": {
   "codemirror_mode": {
    "name": "ipython",
    "version": 3
   },
   "file_extension": ".py",
   "mimetype": "text/x-python",
   "name": "python",
   "nbconvert_exporter": "python",
   "pygments_lexer": "ipython3",
   "version": "3.8.5"
  }
 },
 "nbformat": 4,
 "nbformat_minor": 4
}
