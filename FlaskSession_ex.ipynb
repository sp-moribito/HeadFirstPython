{
 "cells": [
  {
   "cell_type": "code",
   "execution_count": 1,
   "metadata": {},
   "outputs": [
    {
     "data": {
      "text/plain": [
       "str"
      ]
     },
     "execution_count": 1,
     "metadata": {},
     "output_type": "execute_result"
    }
   ],
   "source": [
    "msg=\"Hello from Head First Python 2e\"\n",
    "id(msg)\n",
    "def hello():\n",
    "    print(msg)\n",
    "id(hello)\n",
    "type(msg)\n",
    "#type(hello)\n",
    "#hello()"
   ]
  },
  {
   "cell_type": "code",
   "execution_count": 2,
   "metadata": {},
   "outputs": [
    {
     "name": "stdout",
     "output_type": "stream",
     "text": [
      "This is outer, returning inner.\n"
     ]
    }
   ],
   "source": [
    "def outer():\n",
    "    def inner():\n",
    "        print('This is inner.')\n",
    "    print('This is outer, returning inner.')\n",
    "    return inner\n",
    "\n",
    "i=outer()"
   ]
  },
  {
   "cell_type": "code",
   "execution_count": 3,
   "metadata": {},
   "outputs": [
    {
     "data": {
      "text/plain": [
       "function"
      ]
     },
     "execution_count": 3,
     "metadata": {},
     "output_type": "execute_result"
    }
   ],
   "source": [
    "type(i)"
   ]
  },
  {
   "cell_type": "code",
   "execution_count": 4,
   "metadata": {},
   "outputs": [
    {
     "name": "stdout",
     "output_type": "stream",
     "text": [
      "This is inner.\n"
     ]
    }
   ],
   "source": [
    "i()"
   ]
  },
  {
   "cell_type": "code",
   "execution_count": 5,
   "metadata": {},
   "outputs": [
    {
     "name": "stdout",
     "output_type": "stream",
     "text": [
      "10 20 30 40 50 60 70 \n"
     ]
    }
   ],
   "source": [
    "def myfunc(*args):\n",
    "    for a in args:\n",
    "        print(a,end=' ')\n",
    "    if args:\n",
    "        print()\n",
    "        \n",
    "myfunc(10,20,30,40,50,60,70)"
   ]
  },
  {
   "cell_type": "code",
   "execution_count": 6,
   "metadata": {},
   "outputs": [
    {
     "name": "stdout",
     "output_type": "stream",
     "text": [
      "10 \n"
     ]
    }
   ],
   "source": [
    "myfunc(10)"
   ]
  },
  {
   "cell_type": "code",
   "execution_count": 7,
   "metadata": {},
   "outputs": [
    {
     "name": "stdout",
     "output_type": "stream",
     "text": [
      "[1, 2, 3, 5, 7, 11] \n"
     ]
    }
   ],
   "source": [
    "values=[1,2,3,5,7,11]\n",
    "myfunc(values)"
   ]
  },
  {
   "cell_type": "code",
   "execution_count": 8,
   "metadata": {},
   "outputs": [
    {
     "name": "stdout",
     "output_type": "stream",
     "text": [
      "1 2 3 5 7 11 \n"
     ]
    }
   ],
   "source": [
    "myfunc(*values)"
   ]
  },
  {
   "cell_type": "code",
   "execution_count": 9,
   "metadata": {},
   "outputs": [
    {
     "name": "stdout",
     "output_type": "stream",
     "text": [
      "a->10 b->20 \n"
     ]
    }
   ],
   "source": [
    "def myfunc2(**kwargs):\n",
    "    for k,v in kwargs.items():\n",
    "        print(k,v,sep='->',end=' ')\n",
    "    if kwargs:\n",
    "        print()\n",
    "myfunc2(a=10, b=20)"
   ]
  },
  {
   "cell_type": "code",
   "execution_count": 10,
   "metadata": {},
   "outputs": [],
   "source": [
    "myfunc2()"
   ]
  },
  {
   "cell_type": "code",
   "execution_count": 11,
   "metadata": {},
   "outputs": [
    {
     "name": "stdout",
     "output_type": "stream",
     "text": [
      "a->10 b->20 c->30 d->40 e->50 \n"
     ]
    }
   ],
   "source": [
    "myfunc2(a=10,b=20,c=30,d=40,e=50)"
   ]
  },
  {
   "cell_type": "code",
   "execution_count": 12,
   "metadata": {},
   "outputs": [],
   "source": [
    "def myfunc3(*args,**kwargs):\n",
    "    if args:\n",
    "        for a in args:\n",
    "            print(a,end=' ')\n",
    "        print()\n",
    "    if kwargs:\n",
    "        for k,v in kwargs.items():\n",
    "            print(k,v,sep='->',end=' ')\n",
    "        print()\n",
    "\n",
    "myfunc3()"
   ]
  },
  {
   "cell_type": "code",
   "execution_count": 13,
   "metadata": {},
   "outputs": [
    {
     "name": "stdout",
     "output_type": "stream",
     "text": [
      "1 2 3 \n"
     ]
    }
   ],
   "source": [
    "myfunc3(1,2,3)"
   ]
  },
  {
   "cell_type": "code",
   "execution_count": 14,
   "metadata": {},
   "outputs": [
    {
     "name": "stdout",
     "output_type": "stream",
     "text": [
      "a->10 b->20 c->30 \n"
     ]
    }
   ],
   "source": [
    "myfunc3(a=10,b=20,c=30)"
   ]
  },
  {
   "cell_type": "code",
   "execution_count": 15,
   "metadata": {},
   "outputs": [
    {
     "name": "stdout",
     "output_type": "stream",
     "text": [
      "1 2 3 \n",
      "a->10 b->20 c->30 \n"
     ]
    }
   ],
   "source": [
    "myfunc3(1,2,3,a=10,b=20,c=30)"
   ]
  },
  {
   "cell_type": "code",
   "execution_count": null,
   "metadata": {},
   "outputs": [],
   "source": []
  }
 ],
 "metadata": {
  "kernelspec": {
   "display_name": "Python 3",
   "language": "python",
   "name": "python3"
  },
  "language_info": {
   "codemirror_mode": {
    "name": "ipython",
    "version": 3
   },
   "file_extension": ".py",
   "mimetype": "text/x-python",
   "name": "python",
   "nbconvert_exporter": "python",
   "pygments_lexer": "ipython3",
   "version": "3.8.5"
  }
 },
 "nbformat": 4,
 "nbformat_minor": 4
}
